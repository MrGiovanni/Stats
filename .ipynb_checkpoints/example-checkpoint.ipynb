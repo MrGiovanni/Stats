{
 "cells": [
  {
   "cell_type": "markdown",
   "id": "7f684615-b981-4502-94e2-840f8c2964ae",
   "metadata": {},
   "source": [
    "# Compute 95% CI (Confidence Intervals)\n",
    "#### 1. Classification examples"
   ]
  },
  {
   "cell_type": "code",
   "execution_count": 1,
   "id": "d9096a1d-f926-425c-8dc8-65974954514b",
   "metadata": {},
   "outputs": [
    {
     "name": "stderr",
     "output_type": "stream",
     "text": [
      "100%|██████████| 100/100 [00:00<00:00, 264.10it/s]"
     ]
    },
    {
     "name": "stdout",
     "output_type": "stream",
     "text": [
      "roc_auc_score = 78.6 [95% CI: 77.0-80.2]\n",
      "precision_score = 89.5 [95% CI: 87.5-91.4]\n",
      "f1_score = 73.5 [95% CI: 71.3-75.7]\n",
      "jaccard_score = 59.3 [95% CI: 56.5-62.0]\n",
      "sensitivity_score = 63.4 [95% CI: 60.7-66.2]\n",
      "specificity_score = 93.8 [95% CI: 92.6-94.9]\n"
     ]
    },
    {
     "name": "stderr",
     "output_type": "stream",
     "text": [
      "\n"
     ]
    }
   ],
   "source": [
    "import scipy.stats as st\n",
    "from utils import *\n",
    "\n",
    "df = pd.read_csv('results/method1.csv')\n",
    "\n",
    "metrics = sampling_dataset(df['gt'], df['predict'])\n",
    "\n",
    "for metric_name in metrics.keys():\n",
    "    lower, upper = st.t.interval(alpha=0.95, df=len(metrics[metric_name])-1, \n",
    "                                 loc=np.mean(metrics[metric_name]), \n",
    "                                 scale=st.sem(metrics[metric_name])) \n",
    "    print('{} = {:.1f} [95% CI: {:.1f}-{:.1f}]'.format(metric_name,\n",
    "                                                       np.mean(metrics[metric_name])*100,\n",
    "                                                       lower*100,\n",
    "                                                       upper*100,\n",
    "                                                      ))"
   ]
  },
  {
   "cell_type": "markdown",
   "id": "bb7762b0-7976-42c2-869c-f5f10b4118df",
   "metadata": {},
   "source": [
    "#### 2. Segmentation examples (e.g., Dice)"
   ]
  },
  {
   "cell_type": "code",
   "execution_count": 2,
   "id": "4fbe2b95-ce55-486e-9b22-7e85fb72436d",
   "metadata": {},
   "outputs": [
    {
     "name": "stdout",
     "output_type": "stream",
     "text": [
      "dice = 68.2 [95% CI: 66.1-70.4]\n"
     ]
    }
   ],
   "source": [
    "import scipy.stats as st\n",
    "from utils import *\n",
    "\n",
    "df = pd.read_csv('results/dice1.csv')\n",
    "\n",
    "metric_name = 'dice'\n",
    "\n",
    "lower, upper = st.t.interval(alpha=0.95, df=len(df[metric_name])-1, \n",
    "                             loc=np.mean(df[metric_name]), \n",
    "                             scale=st.sem(df[metric_name])) \n",
    "print('{} = {:.1f} [95% CI: {:.1f}-{:.1f}]'.format(metric_name,\n",
    "                                                   np.mean(df[metric_name])*100,\n",
    "                                                   lower*100,\n",
    "                                                   upper*100,\n",
    "                                                  ))"
   ]
  },
  {
   "cell_type": "markdown",
   "id": "9b9ef77c-bb51-48d6-8dff-c397108fe319",
   "metadata": {},
   "source": [
    "# Perform t-test between two methods\n",
    "#### 1. Classification examples"
   ]
  },
  {
   "cell_type": "code",
   "execution_count": 22,
   "id": "b94b3ca9-9e62-4f96-900f-6176305aebd0",
   "metadata": {},
   "outputs": [
    {
     "name": "stderr",
     "output_type": "stream",
     "text": [
      "100%|██████████| 100/100 [00:00<00:00, 249.85it/s]\n",
      "100%|██████████| 100/100 [00:00<00:00, 265.92it/s]"
     ]
    },
    {
     "name": "stdout",
     "output_type": "stream",
     "text": [
      "roc_auc_score: p-value = 1.823849757561316e-41\n",
      "precision_score: p-value = 0.015439797565549524\n",
      "f1_score: p-value = 9.47542289998599e-37\n",
      "jaccard_score: p-value = 1.3485343834260122e-43\n",
      "sensitivity_score: p-value = 8.01543071986062e-49\n",
      "specificity_score: p-value = 0.7880714547717828\n"
     ]
    },
    {
     "name": "stderr",
     "output_type": "stream",
     "text": [
      "\n"
     ]
    }
   ],
   "source": [
    "from scipy import stats\n",
    "from utils import *\n",
    "\n",
    "df1 = pd.read_csv('results/method1.csv')\n",
    "df2 = pd.read_csv('results/method2.csv')\n",
    "assert len(df1) == len(df2)\n",
    "\n",
    "metrics1 = sampling_dataset(df1['gt'], df1['predict'])\n",
    "metrics2 = sampling_dataset(df2['gt'], df2['predict'])\n",
    "\n",
    "for metric_name in metrics1.keys():\n",
    "    p = stats.ttest_ind(metrics1[metric_name], metrics2[metric_name]).pvalue\n",
    "    print('{}: p-value = {}'.format(metric_name, p))"
   ]
  },
  {
   "cell_type": "markdown",
   "id": "e34bdb03-7f27-4500-b0b7-6a7375edd572",
   "metadata": {},
   "source": [
    "#### 2. Segmentation examples (e.g., Dice)"
   ]
  },
  {
   "cell_type": "code",
   "execution_count": 23,
   "id": "613e6557-7352-4c74-8f8f-7c309de7313c",
   "metadata": {},
   "outputs": [
    {
     "name": "stdout",
     "output_type": "stream",
     "text": [
      "dice: p-value = 0.12907317702410417\n"
     ]
    }
   ],
   "source": [
    "from scipy import stats\n",
    "from utils import *\n",
    "\n",
    "df1 = pd.read_csv('results/dice1.csv')\n",
    "df2 = pd.read_csv('results/dice2.csv')\n",
    "\n",
    "metric_name = 'dice'\n",
    "\n",
    "p = stats.ttest_ind(df1[metric_name], df2[metric_name]).pvalue\n",
    "print('{}: p-value = {}'.format(metric_name, p))"
   ]
  },
  {
   "cell_type": "code",
   "execution_count": null,
   "id": "1172618a-96b1-4e02-b94e-b65e17317270",
   "metadata": {},
   "outputs": [],
   "source": []
  }
 ],
 "metadata": {
  "kernelspec": {
   "display_name": "Python 3 (ipykernel)",
   "language": "python",
   "name": "python3"
  },
  "language_info": {
   "codemirror_mode": {
    "name": "ipython",
    "version": 3
   },
   "file_extension": ".py",
   "mimetype": "text/x-python",
   "name": "python",
   "nbconvert_exporter": "python",
   "pygments_lexer": "ipython3",
   "version": "3.9.7"
  }
 },
 "nbformat": 4,
 "nbformat_minor": 5
}
